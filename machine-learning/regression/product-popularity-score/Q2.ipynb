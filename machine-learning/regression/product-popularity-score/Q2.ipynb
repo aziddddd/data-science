{
 "cells": [
  {
   "cell_type": "code",
   "execution_count": 1,
   "metadata": {},
   "outputs": [],
   "source": [
    "#Import the required packages\n",
    "import pandas as pd\n",
    "import math as m\n",
    "from sklearn.metrics import mean_squared_error"
   ]
  },
  {
   "cell_type": "code",
   "execution_count": 2,
   "metadata": {},
   "outputs": [],
   "source": [
    "#Define the root mean squared(RMS) function\n",
    "def rms(y_actual,y_predicted):\n",
    "    rms = m.sqrt(mean_squared_error(y_actual, y_predicted))\n",
    "    return rms\n",
    "\n",
    "def rmsyearcalc(col_list, thatyear, data2017):  \n",
    "    rmsthatyear = rms(data2017, thatyear)\n",
    "    col_list.append(rmsthatyear)\n",
    "    \n",
    "def rmscalc(col_list, data2013, data2014, data2015, data2016, data2017):\n",
    "    rmsyearcalc(col_list, data2013, data2017)\n",
    "    rmsyearcalc(col_list, data2014, data2017)\n",
    "    rmsyearcalc(col_list, data2015, data2017)\n",
    "    rmsyearcalc(col_list, data2016, data2017)"
   ]
  },
  {
   "cell_type": "code",
   "execution_count": 3,
   "metadata": {},
   "outputs": [],
   "source": [
    "#Load the trend data\n",
    "df = pd.read_csv('data/trends1.csv')"
   ]
  },
  {
   "cell_type": "code",
   "execution_count": 70,
   "metadata": {},
   "outputs": [
    {
     "data": {
      "text/html": [
       "<div>\n",
       "<style scoped>\n",
       "    .dataframe tbody tr th:only-of-type {\n",
       "        vertical-align: middle;\n",
       "    }\n",
       "\n",
       "    .dataframe tbody tr th {\n",
       "        vertical-align: top;\n",
       "    }\n",
       "\n",
       "    .dataframe thead th {\n",
       "        text-align: right;\n",
       "    }\n",
       "</style>\n",
       "<table border=\"1\" class=\"dataframe\">\n",
       "  <thead>\n",
       "    <tr style=\"text-align: right;\">\n",
       "      <th></th>\n",
       "      <th>Top 1</th>\n",
       "      <th>Top 2</th>\n",
       "      <th>Top 3</th>\n",
       "    </tr>\n",
       "    <tr>\n",
       "      <th>RMS between **-** and 16-17</th>\n",
       "      <th></th>\n",
       "      <th></th>\n",
       "      <th></th>\n",
       "    </tr>\n",
       "  </thead>\n",
       "  <tbody>\n",
       "    <tr>\n",
       "      <th>12-13</th>\n",
       "      <td>16.124515</td>\n",
       "      <td>57.797225</td>\n",
       "      <td>18.271984</td>\n",
       "    </tr>\n",
       "    <tr>\n",
       "      <th>13-14</th>\n",
       "      <td>16.113181</td>\n",
       "      <td>55.175420</td>\n",
       "      <td>13.505697</td>\n",
       "    </tr>\n",
       "    <tr>\n",
       "      <th>14-15</th>\n",
       "      <td>14.026075</td>\n",
       "      <td>51.124847</td>\n",
       "      <td>9.494938</td>\n",
       "    </tr>\n",
       "    <tr>\n",
       "      <th>15-16</th>\n",
       "      <td>4.867474</td>\n",
       "      <td>24.955345</td>\n",
       "      <td>4.267498</td>\n",
       "    </tr>\n",
       "  </tbody>\n",
       "</table>\n",
       "</div>"
      ],
      "text/plain": [
       "                                 Top 1      Top 2      Top 3\n",
       "RMS between **-** and 16-17                                 \n",
       "12-13                        16.124515  57.797225  18.271984\n",
       "13-14                        16.113181  55.175420  13.505697\n",
       "14-15                        14.026075  51.124847   9.494938\n",
       "15-16                         4.867474  24.955345   4.267498"
      ]
     },
     "execution_count": 70,
     "metadata": {},
     "output_type": "execute_result"
    }
   ],
   "source": [
    "#Split dataframe based on year\n",
    "d13, d14, d15, d16, d17 = df[1:53], df[53:105], df[105:157], df[157:209], df[209:]\n",
    "\n",
    "#Create lists required\n",
    "Year = [\"12-13\", \"13-14\", \"14-15\", \"15-16\"]\n",
    "col1 = []\n",
    "col2 = []\n",
    "col3 = []\n",
    "\n",
    "#Calculate root mean squared(RMS) between every year with 2017 to see change in demand\n",
    "rmscalc(col1, d13['Top 1'], d14['Top 1'], d15['Top 1'], d16['Top 1'], d17['Top 1'])    \n",
    "rmscalc(col2, d13['Top 2'], d14['Top 2'], d15['Top 2'], d16['Top 2'], d17['Top 2'])    \n",
    "rmscalc(col3, d13['Top 3'], d14['Top 3'], d15['Top 3'], d16['Top 3'], d17['Top 3'])    \n",
    "\n",
    "#Display as a dataframe\n",
    "d = {'RMS between **-** and 16-17' : Year, 'Top 1' : col1 , 'Top 2' : col2, 'Top 3' : col3}\n",
    "rmsX = pd.DataFrame(data=d)\n",
    "rmsX.set_index('RMS between **-** and 16-17')"
   ]
  }
 ],
 "metadata": {
  "kernelspec": {
   "display_name": "Python 3",
   "language": "python",
   "name": "python3"
  },
  "language_info": {
   "codemirror_mode": {
    "name": "ipython",
    "version": 3
   },
   "file_extension": ".py",
   "mimetype": "text/x-python",
   "name": "python",
   "nbconvert_exporter": "python",
   "pygments_lexer": "ipython3",
   "version": "3.6.5"
  }
 },
 "nbformat": 4,
 "nbformat_minor": 2
}
