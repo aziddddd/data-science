{
 "cells": [
  {
   "cell_type": "code",
   "execution_count": 139,
   "metadata": {},
   "outputs": [],
   "source": [
    "import numpy as np\n",
    "import pandas as pd\n",
    "import sklearn.metrics as metrics\n",
    "\n",
    "from sklearn.metrics import mean_squared_error, mean_absolute_error\n",
    "from sklearn.model_selection import train_test_split  \n",
    "from sklearn.linear_model import LinearRegression  "
   ]
  },
  {
   "cell_type": "code",
   "execution_count": 140,
   "metadata": {},
   "outputs": [],
   "source": [
    "#Load the trend data\n",
    "df = pd.read_csv('data/trends1.csv')\n",
    "Top_1 = df[['Week','Top 1']]\n",
    "Top_2 = df[['Week','Top 2']]\n",
    "Top_3 = df[['Week','Top 3']]"
   ]
  },
  {
   "cell_type": "code",
   "execution_count": 141,
   "metadata": {},
   "outputs": [],
   "source": [
    "#Extract the attributes and labels for all three tops\n",
    "Top_1_x = Top_1.iloc[:, :-1].values  \n",
    "Top_1_y = Top_1.iloc[:, 1].values \n",
    "\n",
    "Top_2_x = Top_2.iloc[:, :-1].values  \n",
    "Top_2_y = Top_2.iloc[:, 1].values \n",
    "\n",
    "Top_3_x = Top_3.iloc[:, :-1].values  \n",
    "Top_3_y = Top_3.iloc[:, 1].values"
   ]
  },
  {
   "cell_type": "code",
   "execution_count": 142,
   "metadata": {},
   "outputs": [],
   "source": [
    "#Split the data into training and test sets\n",
    "T1X_train, T1X_test, T1y_train, T1y_test = train_test_split(Top_1_x, Top_1_y, test_size=0.2, random_state=0)\n",
    "T2X_train, T2X_test, T2y_train, T2y_test = train_test_split(Top_2_x, Top_2_y, test_size=0.2, random_state=0)\n",
    "T3X_train, T3X_test, T3y_train, T3y_test = train_test_split(Top_3_x, Top_3_y, test_size=0.2, random_state=0)\n"
   ]
  },
  {
   "cell_type": "code",
   "execution_count": 145,
   "metadata": {},
   "outputs": [
    {
     "data": {
      "text/plain": [
       "LinearRegression(copy_X=True, fit_intercept=True, n_jobs=1, normalize=False)"
      ]
     },
     "execution_count": 145,
     "metadata": {},
     "output_type": "execute_result"
    }
   ],
   "source": [
    "#Train the algorithm\n",
    "regressor1 = LinearRegression()  \n",
    "regressor1.fit(T1X_train, T1y_train)\n",
    "\n",
    "regressor2 = LinearRegression()  \n",
    "regressor2.fit(T2X_train, T2y_train)\n",
    "\n",
    "regressor3 = LinearRegression()  \n",
    "regressor3.fit(T3X_train, T3y_train)"
   ]
  },
  {
   "cell_type": "code",
   "execution_count": 146,
   "metadata": {},
   "outputs": [
    {
     "data": {
      "text/html": [
       "<div>\n",
       "<style scoped>\n",
       "    .dataframe tbody tr th:only-of-type {\n",
       "        vertical-align: middle;\n",
       "    }\n",
       "\n",
       "    .dataframe tbody tr th {\n",
       "        vertical-align: top;\n",
       "    }\n",
       "\n",
       "    .dataframe thead th {\n",
       "        text-align: right;\n",
       "    }\n",
       "</style>\n",
       "<table border=\"1\" class=\"dataframe\">\n",
       "  <thead>\n",
       "    <tr style=\"text-align: right;\">\n",
       "      <th></th>\n",
       "      <th>Top 1</th>\n",
       "      <th>Top 2</th>\n",
       "      <th>Top 3</th>\n",
       "    </tr>\n",
       "    <tr>\n",
       "      <th>Component</th>\n",
       "      <th></th>\n",
       "      <th></th>\n",
       "      <th></th>\n",
       "    </tr>\n",
       "  </thead>\n",
       "  <tbody>\n",
       "    <tr>\n",
       "      <th>y-intercept</th>\n",
       "      <td>-0.177028</td>\n",
       "      <td>-1.665524</td>\n",
       "      <td>11.483730</td>\n",
       "    </tr>\n",
       "    <tr>\n",
       "      <th>gradient</th>\n",
       "      <td>0.092361</td>\n",
       "      <td>0.294847</td>\n",
       "      <td>0.092494</td>\n",
       "    </tr>\n",
       "  </tbody>\n",
       "</table>\n",
       "</div>"
      ],
      "text/plain": [
       "                Top 1     Top 2      Top 3\n",
       "Component                                 \n",
       "y-intercept -0.177028 -1.665524  11.483730\n",
       "gradient     0.092361  0.294847   0.092494"
      ]
     },
     "execution_count": 146,
     "metadata": {},
     "output_type": "execute_result"
    }
   ],
   "source": [
    "#Obtain and display the slopes and y-intercepts of the linear trendline for all three tops obtained through algorithm\n",
    "d = {'Component' : ['y-intercept', 'gradient'] , 'Top 1' : [regressor1.intercept_, regressor1.coef_[0]] , 'Top 2' : [regressor2.intercept_, regressor2.coef_[0]] , 'Top 3' :  [regressor3.intercept_, regressor3.coef_[0]]}\n",
    "modelcoefficient = pd.DataFrame(data=d)\n",
    "modelcoefficient.set_index('Component')"
   ]
  },
  {
   "cell_type": "code",
   "execution_count": 147,
   "metadata": {},
   "outputs": [],
   "source": [
    "#Create our own predictions\n",
    "T1y_pred = regressor1.predict(T1X_test)\n",
    "T2y_pred = regressor2.predict(T2X_test)\n",
    "T3y_pred = regressor3.predict(T3X_test)"
   ]
  },
  {
   "cell_type": "code",
   "execution_count": 148,
   "metadata": {},
   "outputs": [
    {
     "data": {
      "text/html": [
       "<div>\n",
       "<style scoped>\n",
       "    .dataframe tbody tr th:only-of-type {\n",
       "        vertical-align: middle;\n",
       "    }\n",
       "\n",
       "    .dataframe tbody tr th {\n",
       "        vertical-align: top;\n",
       "    }\n",
       "\n",
       "    .dataframe thead th {\n",
       "        text-align: right;\n",
       "    }\n",
       "</style>\n",
       "<table border=\"1\" class=\"dataframe\">\n",
       "  <thead>\n",
       "    <tr style=\"text-align: right;\">\n",
       "      <th></th>\n",
       "      <th>T1 Actual</th>\n",
       "      <th>T1 Predicted</th>\n",
       "      <th>T2 Actual</th>\n",
       "      <th>T2 Predicted</th>\n",
       "      <th>T3 Actual</th>\n",
       "      <th>T3 Predicted</th>\n",
       "    </tr>\n",
       "  </thead>\n",
       "  <tbody>\n",
       "    <tr>\n",
       "      <th>0</th>\n",
       "      <td>18</td>\n",
       "      <td>15.154953</td>\n",
       "      <td>25</td>\n",
       "      <td>47.279101</td>\n",
       "      <td>17</td>\n",
       "      <td>26.837780</td>\n",
       "    </tr>\n",
       "    <tr>\n",
       "      <th>1</th>\n",
       "      <td>5</td>\n",
       "      <td>9.613273</td>\n",
       "      <td>23</td>\n",
       "      <td>29.588272</td>\n",
       "      <td>19</td>\n",
       "      <td>21.288123</td>\n",
       "    </tr>\n",
       "    <tr>\n",
       "      <th>2</th>\n",
       "      <td>19</td>\n",
       "      <td>21.897330</td>\n",
       "      <td>80</td>\n",
       "      <td>68.802942</td>\n",
       "      <td>36</td>\n",
       "      <td>33.589862</td>\n",
       "    </tr>\n",
       "    <tr>\n",
       "      <th>3</th>\n",
       "      <td>5</td>\n",
       "      <td>6.842433</td>\n",
       "      <td>22</td>\n",
       "      <td>20.742858</td>\n",
       "      <td>16</td>\n",
       "      <td>18.513295</td>\n",
       "    </tr>\n",
       "    <tr>\n",
       "      <th>4</th>\n",
       "      <td>27</td>\n",
       "      <td>20.142464</td>\n",
       "      <td>57</td>\n",
       "      <td>63.200846</td>\n",
       "      <td>24</td>\n",
       "      <td>31.832471</td>\n",
       "    </tr>\n",
       "  </tbody>\n",
       "</table>\n",
       "</div>"
      ],
      "text/plain": [
       "   T1 Actual  T1 Predicted  T2 Actual  T2 Predicted  T3 Actual  T3 Predicted\n",
       "0         18     15.154953         25     47.279101         17     26.837780\n",
       "1          5      9.613273         23     29.588272         19     21.288123\n",
       "2         19     21.897330         80     68.802942         36     33.589862\n",
       "3          5      6.842433         22     20.742858         16     18.513295\n",
       "4         27     20.142464         57     63.200846         24     31.832471"
      ]
     },
     "execution_count": 148,
     "metadata": {},
     "output_type": "execute_result"
    }
   ],
   "source": [
    "#Display the actual and predicted values of the test sets)\n",
    "compare = pd.DataFrame({'T1 Actual': T1y_test, 'T1 Predicted': T1y_pred, 'T2 Actual': T2y_test, 'T2 Predicted': T2y_pred, 'T3 Actual': T3y_test, 'T3 Predicted': T3y_pred})\n",
    "compare.head()"
   ]
  },
  {
   "cell_type": "code",
   "execution_count": 126,
   "metadata": {},
   "outputs": [
    {
     "data": {
      "text/html": [
       "<div>\n",
       "<style scoped>\n",
       "    .dataframe tbody tr th:only-of-type {\n",
       "        vertical-align: middle;\n",
       "    }\n",
       "\n",
       "    .dataframe tbody tr th {\n",
       "        vertical-align: top;\n",
       "    }\n",
       "\n",
       "    .dataframe thead th {\n",
       "        text-align: right;\n",
       "    }\n",
       "</style>\n",
       "<table border=\"1\" class=\"dataframe\">\n",
       "  <thead>\n",
       "    <tr style=\"text-align: right;\">\n",
       "      <th></th>\n",
       "      <th>Top 1</th>\n",
       "      <th>Top 2</th>\n",
       "      <th>Top 3</th>\n",
       "    </tr>\n",
       "    <tr>\n",
       "      <th>Metrics</th>\n",
       "      <th></th>\n",
       "      <th></th>\n",
       "      <th></th>\n",
       "    </tr>\n",
       "  </thead>\n",
       "  <tbody>\n",
       "    <tr>\n",
       "      <th>Mean Absolute Error</th>\n",
       "      <td>4.368719</td>\n",
       "      <td>11.357490</td>\n",
       "      <td>3.039455</td>\n",
       "    </tr>\n",
       "    <tr>\n",
       "      <th>Mean Squared Error</th>\n",
       "      <td>29.044991</td>\n",
       "      <td>184.948055</td>\n",
       "      <td>13.244954</td>\n",
       "    </tr>\n",
       "    <tr>\n",
       "      <th>Root Mean Squared Error</th>\n",
       "      <td>5.389341</td>\n",
       "      <td>13.599561</td>\n",
       "      <td>3.639362</td>\n",
       "    </tr>\n",
       "  </tbody>\n",
       "</table>\n",
       "</div>"
      ],
      "text/plain": [
       "                             Top 1       Top 2      Top 3\n",
       "Metrics                                                  \n",
       "Mean Absolute Error       4.368719   11.357490   3.039455\n",
       "Mean Squared Error       29.044991  184.948055  13.244954\n",
       "Root Mean Squared Error   5.389341   13.599561   3.639362"
      ]
     },
     "execution_count": 126,
     "metadata": {},
     "output_type": "execute_result"
    }
   ],
   "source": [
    "#Calculate and display the metrics between our own predictions and actual values of the test sets for all three tops\n",
    "d = {'Metrics' : ['Mean Absolute Error', 'Mean Squared Error', 'Root Mean Squared Error'] , 'Top 1' : [metrics.mean_absolute_error(T1y_test, T1y_pred), metrics.mean_squared_error(T1y_test, T1y_pred), np.sqrt(metrics.mean_squared_error(T1y_test, T1y_pred))] , 'Top 2' : [metrics.mean_absolute_error(T2y_test, T2y_pred), metrics.mean_squared_error(T2y_test, T2y_pred), np.sqrt(metrics.mean_squared_error(T2y_test, T2y_pred))] , 'Top 3' :  [metrics.mean_absolute_error(T3y_test, T3y_pred), metrics.mean_squared_error(T3y_test, T3y_pred), np.sqrt(metrics.mean_squared_error(T3y_test, T3y_pred))]}\n",
    "metricval = pd.DataFrame(data=d)\n",
    "metricval.set_index('Metrics')"
   ]
  }
 ],
 "metadata": {
  "kernelspec": {
   "display_name": "Python 2",
   "language": "python",
   "name": "python2"
  },
  "language_info": {
   "codemirror_mode": {
    "name": "ipython",
    "version": 2
   },
   "file_extension": ".py",
   "mimetype": "text/x-python",
   "name": "python",
   "nbconvert_exporter": "python",
   "pygments_lexer": "ipython2",
   "version": "2.7.14"
  }
 },
 "nbformat": 4,
 "nbformat_minor": 2
}
