{
 "cells": [
  {
   "cell_type": "markdown",
   "metadata": {},
   "source": [
    "# Neural network classification with *Keras*  on birthrate level for Countries of the World data \n",
    "\n",
    "Prediction of the birth rate class of a given country (low, medium or high) based on a set of input features using **Deep Learning**.\n",
    "\n",
    "- Data is provided for **224** countries\n",
    "- Up to **18** input features available per country \n",
    "\n",
    "**Tasks**:\n",
    "- Selecting a subset of suitable input features\n",
    "- Preparing the data for Deep Learning with Keras\n",
    "- Creating a training and testing sample \n",
    "- Running the deep learning process and evaluate predictive power  \n",
    "- Investigating prediction accuracy changes with layers and nodes tuning\n",
    "- Saved the trained models"
   ]
  },
  {
   "cell_type": "code",
   "execution_count": 1,
   "metadata": {},
   "outputs": [
    {
     "name": "stderr",
     "output_type": "stream",
     "text": [
      "Using TensorFlow backend.\n"
     ]
    }
   ],
   "source": [
    "# import required package\n",
    "import pandas as pd\n",
    "import numpy as np\n",
    "from scipy import stats\n",
    "\n",
    "import keras\n",
    "from keras.utils import np_utils\n",
    "from keras.models import Sequential\n",
    "from keras.layers import *\n",
    "from keras.constraints import maxnorm\n",
    "from keras.wrappers.scikit_learn import KerasClassifier\n",
    "\n",
    "from sklearn import model_selection\n",
    "from sklearn import preprocessing\n",
    "from sklearn.preprocessing import MinMaxScaler\n",
    "\n",
    "import matplotlib.pyplot as plt\n",
    "from IPython.display import Image\n",
    "from mpl_toolkits.mplot3d import Axes3D\n",
    "\n",
    "import itertools\n",
    "\n",
    "import dt_utils\n",
    "\n",
    "%matplotlib inline "
   ]
  },
  {
   "cell_type": "markdown",
   "metadata": {},
   "source": [
    "#### 1. Data Extraction\n",
    "- The features can be any of the following: \n",
    "  - Population, Area, Density, Coastline, Migration, InfantMortality, GDP, Literacy, Phones, Arable, Crops, OtherLand, Climate, Deathrate, Agriculture, Industry, Service\n",
    "  - More information on the dataset is available [here](https://www.kaggle.com/fernandol/countries-of-the-world)\n",
    "- Only 4 features are chosen as input into the Decision Tree. "
   ]
  },
  {
   "cell_type": "code",
   "execution_count": 2,
   "metadata": {},
   "outputs": [],
   "source": [
    "# Load country dataset \n",
    "bclass = ['low', 'medium', 'high'] # birth rate class (provided)\n",
    "features_all = ['Country', 'Population', 'Area', 'Density', 'Coastline', 'Migration', 'InfantMortality', 'GDP', 'Literacy', 'Phones', 'Arable', 'Crops', 'OtherLand', 'Climate', 'Deathrate', 'Agriculture', 'Industry', 'Service'] # fdefine features here \n",
    "path = 'countries.csv'\n",
    "data_all = dt_utils.gendata(features_all, path)"
   ]
  },
  {
   "cell_type": "code",
   "execution_count": 3,
   "metadata": {},
   "outputs": [
    {
     "data": {
      "text/plain": [
       "['InfantMortality', 'GDP', 'Literacy', 'OtherLand']"
      ]
     },
     "execution_count": 3,
     "metadata": {},
     "output_type": "execute_result"
    }
   ],
   "source": [
    "# Choose only 4 features\n",
    "feature_idx = [6, 7, 8, 12]\n",
    "\n",
    "# Show feature names\n",
    "features = []\n",
    "for i in feature_idx:\n",
    "    features.append(features_all[i])\n",
    "features"
   ]
  },
  {
   "cell_type": "code",
   "execution_count": 4,
   "metadata": {
    "scrolled": true
   },
   "outputs": [
    {
     "data": {
      "text/plain": [
       "((158, 4), (158,), array(['high', 'low', 'medium'], dtype=object))"
      ]
     },
     "execution_count": 4,
     "metadata": {},
     "output_type": "execute_result"
    }
   ],
   "source": [
    "data, target = data_all[:, feature_idx].astype(float), data_all[:, [-1]].ravel()\n",
    "\n",
    "# preprocess target data\n",
    "le = preprocessing.LabelEncoder()\n",
    "target_label = le.fit_transform(target).astype(float)\n",
    "\n",
    "# Show dataset dimensions\n",
    "data.shape, target.shape, np.unique(target)"
   ]
  },
  {
   "cell_type": "markdown",
   "metadata": {},
   "source": [
    "#### 2. Train-test data splitting and scaling the data."
   ]
  },
  {
   "cell_type": "code",
   "execution_count": 5,
   "metadata": {
    "scrolled": true
   },
   "outputs": [
    {
     "name": "stdout",
     "output_type": "stream",
     "text": [
      "(110, 4) (110,) (48, 4) (48,)\n"
     ]
    }
   ],
   "source": [
    "# split data into training and test dataset\n",
    "d = model_selection.train_test_split(\n",
    "    data, target_label, test_size=0.3, random_state=0)\n",
    "\n",
    "# get training and test data and targets\n",
    "train_data, test_data, train_target, test_target = d\n",
    "\n",
    "print(train_data.shape, train_target.shape, test_data.shape, test_target.shape)"
   ]
  },
  {
   "cell_type": "code",
   "execution_count": 6,
   "metadata": {
    "scrolled": true
   },
   "outputs": [],
   "source": [
    "# Data needs to be scaled to a small range like 0 to 1 for the neural network to work well.\n",
    "scaler = MinMaxScaler(feature_range=(0, 1))\n",
    "\n",
    "# Scale both the training inputs and outputs\n",
    "train_data = scaler.fit_transform(train_data)\n",
    "test_data = scaler.transform(test_data)"
   ]
  },
  {
   "cell_type": "markdown",
   "metadata": {},
   "source": [
    "#### 3. Defining the deep learning model."
   ]
  },
  {
   "cell_type": "code",
   "execution_count": 7,
   "metadata": {},
   "outputs": [],
   "source": [
    "def baseline_model():\n",
    "    # Define the model\n",
    "    model = Sequential()\n",
    "    model.add(Dense(350, kernel_initializer='uniform', input_dim=4, activation='relu'))\n",
    "    model.add(Dense(3, kernel_initializer='uniform', activation='sigmoid'))\n",
    "    model.compile(loss='categorical_crossentropy', optimizer='Adagrad', metrics=['accuracy'])\n",
    "    return model\n",
    "model = baseline_model()"
   ]
  },
  {
   "cell_type": "markdown",
   "metadata": {},
   "source": [
    "#### 4. Create model classifier object for GridSearch hyperparameter tuning and training and test data split size comparison."
   ]
  },
  {
   "cell_type": "code",
   "execution_count": 8,
   "metadata": {},
   "outputs": [],
   "source": [
    "estimator = KerasClassifier(build_fn=baseline_model, epochs=800, batch_size=32, verbose=0)"
   ]
  },
  {
   "cell_type": "markdown",
   "metadata": {},
   "source": [
    "#### 5. Performing a grid-search on **two** suitable hyper-parameters to look for higher accuracy"
   ]
  },
  {
   "cell_type": "code",
   "execution_count": 9,
   "metadata": {
    "scrolled": false
   },
   "outputs": [],
   "source": [
    "%%time\n",
    "\n",
    "# tutorial on how to grid search hyperparameter tuning\n",
    "# (baseline model is required to be modified, depending on which hyperparameter is tuning)\n",
    "# https://machinelearningmastery.com/grid-search-hyperparameters-deep-learning-models-python-keras/\n",
    "# estimate hyperparameter\n",
    "params = {\n",
    "    'epochs' : [200, 500, 800, 1000],\n",
    "#     'batch_size' : [25, 32, 40, 50],\n",
    "#     'activation' : ['softmax', 'softplus', 'softsign', 'relu', 'tanh', 'sigmoid', 'hard_sigmoid', 'linear'],\n",
    "#     'init_mode' : ['uniform', 'lecun_uniform', 'normal', 'zero', 'glorot_normal', 'glorot_uniform', 'he_normal', 'he_uniform'],\n",
    "#     'neurons' : [10, 30, 50, 100, 200, 300, 500],\n",
    "#     'dropout_rate' : [0.0, 0.1, 0.2, 0.3, 0.4, 0.5, 0.6, 0.7, 0.8, 0.9],\n",
    "#     'optimizer' : ['SGD', 'RMSprop', 'Adagrad', 'Adadelta', 'Adam', 'Adamax', 'Nadam']    \n",
    "         }\n",
    "score = 'accuracy'\n",
    "\n",
    "# tuning hyperparameter\n",
    "clf = model_selection.GridSearchCV(estimator, params, scoring='%s' % score)\n",
    "clf.fit(train_data, train_target)\n",
    "\n",
    "print('Best {}'.format(clf.best_params_))\n",
    "\n",
    "# Calculate the means and stds test score\n",
    "means = clf.cv_results_['mean_test_score']\n",
    "stds = clf.cv_results_['std_test_score']\n",
    "\n",
    "for mean, std, param in zip(means, stds, clf.cv_results_['params']):\n",
    "        print(\"%0.3f (+/-%0.03f) for %r\"\n",
    "              % (mean, std * 2, param))"
   ]
  },
  {
   "cell_type": "markdown",
   "metadata": {},
   "source": [
    "#### 6. Displaying heat map to determine the best hyperparameter values."
   ]
  },
  {
   "cell_type": "code",
   "execution_count": 10,
   "metadata": {},
   "outputs": [],
   "source": [
    "# display heatmap\n",
    "# must be two hyperparameter being tuned\n",
    "# m and n means.reshape(m, n) depends on the number of candidate values of the first and second selected hyperparameter, respectively \n",
    "# labels = [k for k,v in params.items()]\n",
    "# classes = [v for k,v in params.items()]\n",
    "# dt_utils.heatmap(means.reshape(3, 1), classes=classes, labels=labels, palette=\"Green\")\n",
    "# plt.show()"
   ]
  },
  {
   "cell_type": "markdown",
   "metadata": {},
   "source": [
    "#### 7. Compare accuracy for different training and test data split size."
   ]
  },
  {
   "cell_type": "code",
   "execution_count": 11,
   "metadata": {},
   "outputs": [
    {
     "name": "stdout",
     "output_type": "stream",
     "text": [
      "parameters\n",
      "{'verbose': 0, 'shuffle': True, 'epochs': 800}\n",
      "Split sample:\n",
      "[0.01 0.02 0.03 0.04 0.05 0.06 0.07 0.08 0.09 0.1  0.2  0.3  0.4  0.5\n",
      " 0.6  0.7  0.8  0.9  0.91 0.92 0.93 0.94 0.95 0.96 0.97 0.98 0.99]\n",
      "Running with test size of: 0.01\n",
      "Running with test size of: 0.02\n",
      "Running with test size of: 0.03\n",
      "Running with test size of: 0.04\n",
      "Running with test size of: 0.05\n",
      "Running with test size of: 0.06\n",
      "Running with test size of: 0.07\n",
      "Running with test size of: 0.08\n",
      "Running with test size of: 0.09\n",
      "Running with test size of: 0.10\n",
      "Running with test size of: 0.20\n",
      "Running with test size of: 0.30\n",
      "Running with test size of: 0.40\n",
      "Running with test size of: 0.50\n",
      "Running with test size of: 0.60\n",
      "Running with test size of: 0.70\n",
      "Running with test size of: 0.80\n",
      "Running with test size of: 0.90\n",
      "Running with test size of: 0.91\n",
      "Running with test size of: 0.92\n",
      "Running with test size of: 0.93\n",
      "Running with test size of: 0.94\n",
      "Running with test size of: 0.95\n",
      "Running with test size of: 0.96\n",
      "Running with test size of: 0.97\n",
      "Running with test size of: 0.98\n",
      "Running with test size of: 0.99\n",
      "Wall time: 3min 50s\n"
     ]
    },
    {
     "data": {
      "image/png": "[encoded data removed]",
      "text/plain": [
       "<Figure size 1080x360 with 1 Axes>"
      ]
     },
     "metadata": {},
     "output_type": "display_data"
    }
   ],
   "source": [
    "%%time\n",
    "dt_utils.compare_traintest(data, target, model, epochs=800, shuffle=True, verbose=0)"
   ]
  }
 ],
 "metadata": {
  "kernelspec": {
   "display_name": "Python 3",
   "language": "python",
   "name": "python3"
  },
  "language_info": {
   "codemirror_mode": {
    "name": "ipython",
    "version": 3
   },
   "file_extension": ".py",
   "mimetype": "text/x-python",
   "name": "python",
   "nbconvert_exporter": "python",
   "pygments_lexer": "ipython3",
   "version": "3.5.5"
  }
 },
 "nbformat": 4,
 "nbformat_minor": 2
}
